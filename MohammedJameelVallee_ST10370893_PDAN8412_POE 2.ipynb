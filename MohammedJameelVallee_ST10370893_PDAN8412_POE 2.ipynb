{
 "cells": [
  {
   "cell_type": "markdown",
   "id": "33d12e94",
   "metadata": {},
   "source": [
    "# Predicting Character Alignment with Logistic Regression Using Pyspark from Scratch"
   ]
  },
  {
   "cell_type": "markdown",
   "id": "a73a73e7",
   "metadata": {},
   "source": [
    "## Introduction\n",
    "In this analysis, we aim to utilize the comic book characters dataset to predict whether a Marvel or DC character is a hero, villain or is reformed using logistic regression, implemented from scratch. This dataset comprises of various character statistics such as their publisher, name, alignment, hair colour, eye colour and first appearance (to name a few). To shed light on the classification and prediction of comic book characters into the categories of hero, villain, or reformed, we turn to logistic regression. This statistical method offers a reliable means of making such predictions by analyzing various character attributes and characteristics. Through this predictive model, we aim to explore the underlying factors that distinguish these archetypes and offer valuable insights into the comic book narrative. Our objective is to provide a data-driven understanding of these iconic personas, contributing to the ever-evolving discourse surrounding the beloved characters that populate the comic book universe.\n",
    "\n",
    "Logistic regression is a statistical technique used for binary classification, where the goal is to predict one of two possible outcomes based on input features. It models the probability of a specific outcome by transforming a linear combination of input features into a probability score between 0 and 1 using the logistic function. This method is valuable for a wide range of applications, such as predicting customer churn, medical diagnosis, or, in the context of classifying comic book characters, determining whether a character is a hero, villain, or reformed based on their attributes and characteristics."
   ]
  },
  {
   "cell_type": "markdown",
   "id": "95b186d7",
   "metadata": {},
   "source": [
    "## Dataset Source  \n",
    "The dataset we will be using comes from Kaggle and can be found at https://www.kaggle.com/datasets/sujaykapadnis/comic-book-characters?select=week9_comic_characters.csv\n",
    "It is a widely-used resource for Marvel and DC comic book characters, and is great for classification tasks. This dataset comprises a collection of character attributes and characteristics making it valuable for logistic regression. The dataset consists of 500 000 data entries, each contributing to characters within Marvel and DC comcis\n",
    "\n",
    "The dataset contains the following columns:\n",
    "\n",
    "* **Unnamed:** 0: A likely identifier for the rows, possibly an index or unique identifier for each character entry in the dataset.\n",
    "* **Publisher:** The comic book publishing company that the character is associated with, such as Marvel or DC Comics.\n",
    "* **Page_id:** A unique identifier or reference for the character's page in the comic book.\n",
    "* **Name:** The name of the comic book character.\n",
    "* **Urlslug:** A URL-friendly version of the character's name, often used for online references or web links.\n",
    "* **Id:** An identifier for the character, which may be different from the name and could serve as a unique reference.\n",
    "* **Align:** The alignment of the character, indicating whether they are a hero, villain, or neutral/reformed.\n",
    "* **Eye:** The eye color of the character.\n",
    "* **Hair:** The hair color of the character.\n",
    "* **Sex:** The gender or sex of the character, typically male or female.\n",
    "* **Gsm:** Gender or sexual orientation of the character, if relevant (such as LGBTQ+ representation).\n",
    "* **Alive:** A binary indicator, likely denoting whether the character is alive (1) or deceased (0).\n",
    "* **Appearances:** The number of appearances the character has made in comic books or related media.\n",
    "* **First_appearance:** The comic book issue or media where the character first appeared.\n",
    "* **Month:** The month of the character's first appearance.\n",
    "* **Year:** The year of the character's first appearance.\n",
    "* **Date:** The complete date of the character's first appearance, including day, month, and year.\n",
    "\n"
   ]
  },
  {
   "cell_type": "markdown",
   "id": "45b30d82",
   "metadata": {},
   "source": [
    "## Why is this dataset appropriate\n",
    "This comic book character dataset is a strong candidate for logistic regression for several compelling reasons. Firstly, it aligns perfectly with the binary classification task that logistic regression excels in, specifically, determining whether a character is a hero, villain, or reformed. The \"align\" column serves as a clear binary target variable, providing a solid foundation for creating a predictive model. Moreover, the dataset contains a diverse mix of both categorical and numeric features, ranging from the publisher and eye and hair color to gender, gender orientation, and even the character's number of appearances. Logistic regression is well-equipped to handle this variety of data types.\n",
    "\n",
    "Moreover, logistic regression's simplicity and interpretability are advantageous for comic book character analysis. Its transparent results enable a clear understanding of the factors influencing character alignments, which is valuable to enthusiasts and researchers. The model's computational efficiency is also beneficial for analyses of varying scales, making it accessible without extensive computational resources. The dataset's historical dimension, represented by the first appearance date of each character, allows for insights into evolving character alignments over time, while the potential for feature engineering adds flexibility in generating new variables, enhancing the predictive power of the model.\n"
   ]
  },
  {
   "cell_type": "markdown",
   "id": "19f7369c",
   "metadata": {},
   "source": [
    "## Analysis Plan\n",
    "To analyze this dataset, we will perform the following steps:\n",
    "\n",
    "1. Load and clean the data.\n",
    "\n",
    "2. Perform exploratory data analysis to understand the distribution of the variables and any  \n",
    "   duplicates or missing values.\n",
    "   \n",
    "3. Develop the Logistic Regression model.\n",
    "\n",
    "5. Evaluate the performance of the model.\n",
    "\n",
    "6. Display the model results graphically.\n",
    "\n",
    "7. Recommend improvements to increase model accuracy.\n",
    "\n",
    "We will use Pyspark as well as Python's extensive library for cleaning the data, developing the model and displaying the results graphically\n"
   ]
  },
  {
   "cell_type": "markdown",
   "id": "3c5dc6f4",
   "metadata": {},
   "source": [
    "### Loading and Analyzing the Data"
   ]
  },
  {
   "cell_type": "code",
   "execution_count": 1,
   "id": "a9bd4c1c",
   "metadata": {},
   "outputs": [],
   "source": [
    "# Import necessary libraries\n",
    "from pyspark.sql import SparkSession\n",
    "from pyspark.sql.functions import monotonically_increasing_id\n",
    "from pyspark.sql.functions import col, when\n",
    "from pyspark.ml.feature import VectorAssembler\n",
    "import math\n",
    "\n",
    "# Create a Spark session\n",
    "spark = SparkSession.builder.appName(\"LogisticRegression\").getOrCreate()\n",
    "\n",
    "# Load the dataset \n",
    "df_pyspark= spark.read.csv(\"week9_comic_characters.csv\", header=True, inferSchema=True)\n",
    "\n"
   ]
  },
  {
   "cell_type": "code",
   "execution_count": 2,
   "id": "3f9a61eb",
   "metadata": {},
   "outputs": [
    {
     "name": "stdout",
     "output_type": "stream",
     "text": [
      "+----------+---------+-------+--------------------+--------------------+----------------+---------------+----------+----------+-----------------+----+-----------------+-----------+----------------+---------+------+----------+\n",
      "|Unnamed: 0|publisher|page_id|                name|             urlslug|              id|          align|       eye|      hair|              sex| gsm|            alive|appearances|first_appearance|    month|  year|      date|\n",
      "+----------+---------+-------+--------------------+--------------------+----------------+---------------+----------+----------+-----------------+----+-----------------+-----------+----------------+---------+------+----------+\n",
      "|         1|   Marvel|   1678|Spider-Man (Peter...|\\/Spider-Man_(Pet...| Secret Identity|Good Characters|Hazel Eyes|Brown Hair|  Male Characters|null|Living Characters|     4043.0|    1962, August|   August|1962.0|1962-08-01|\n",
      "|         2|   Marvel|   7139|Captain America (...|\\/Captain_America...| Public Identity|Good Characters| Blue Eyes|White Hair|  Male Characters|null|Living Characters|     3360.0|     1941, March|    March|1941.0|1941-03-01|\n",
      "|         3|   Marvel|  64786|\"Wolverine (James...|\\/Wolverine_(Jame...| Public Identity|           null| Blue Eyes|Black Hair|  Male Characters|null|Living Characters|     3061.0|   1974, October|  October|1974.0|1974-10-01|\n",
      "|         4|   Marvel|   1868|\"Iron Man (Anthon...|\\/Iron_Man_(Antho...| Public Identity|Good Characters| Blue Eyes|Black Hair|  Male Characters|null|Living Characters|     2961.0|     1963, March|    March|1963.0|1963-03-01|\n",
      "|         5|   Marvel|   2460| Thor (Thor Odinson)|\\/Thor_(Thor_Odin...|No Dual Identity|Good Characters| Blue Eyes|Blond Hair|  Male Characters|null|Living Characters|     2258.0|  1950, November| November|1950.0|1950-11-01|\n",
      "|         6|   Marvel|   2458|Benjamin Grimm (E...|\\/Benjamin_Grimm_...| Public Identity|Good Characters| Blue Eyes|   No Hair|  Male Characters|null|Living Characters|     2255.0|  1961, November| November|1961.0|1961-11-01|\n",
      "|         7|   Marvel|   2166|Reed Richards (Ea...|\\/Reed_Richards_(...| Public Identity|Good Characters|Brown Eyes|Brown Hair|  Male Characters|null|Living Characters|     2072.0|  1961, November| November|1961.0|1961-11-01|\n",
      "|         8|   Marvel|   1833|Hulk (Robert Bruc...|\\/Hulk_(Robert_Br...| Public Identity|Good Characters|Brown Eyes|Brown Hair|  Male Characters|null|Living Characters|     2017.0|       1962, May|      May|1962.0|1962-05-01|\n",
      "|         9|   Marvel|  29481|Scott Summers (Ea...|\\/Scott_Summers_(...| Public Identity|           null|Brown Eyes|Brown Hair|  Male Characters|null|Living Characters|     1955.0| 1963, September|September|1963.0|1963-09-01|\n",
      "|        10|   Marvel|   1837|Jonathan Storm (E...|\\/Jonathan_Storm_...| Public Identity|Good Characters| Blue Eyes|Blond Hair|  Male Characters|null|Living Characters|     1934.0|  1961, November| November|1961.0|1961-11-01|\n",
      "|        11|   Marvel|  15725|Henry McCoy (Eart...|\\/Henry_McCoy_(Ea...| Public Identity|Good Characters| Blue Eyes| Blue Hair|  Male Characters|null|Living Characters|     1825.0| 1963, September|September|1963.0|1963-09-01|\n",
      "|        12|   Marvel|   1863|Susan Storm (Eart...|\\/Susan_Storm_(Ea...| Public Identity|Good Characters| Blue Eyes|Blond Hair|Female Characters|null|Living Characters|     1713.0|  1961, November| November|1961.0|1961-11-01|\n",
      "|        13|   Marvel|   7823|Namor McKenzie (E...|\\/Namor_McKenzie_...|No Dual Identity|           null|Green Eyes|Black Hair|  Male Characters|null|Living Characters|     1528.0|          NA, NA|     null|  null|      null|\n",
      "|        14|   Marvel|   2614|Ororo Munroe (Ear...|\\/Ororo_Munroe_(E...| Public Identity|Good Characters| Blue Eyes|White Hair|Female Characters|null|Living Characters|     1512.0|       1975, May|      May|1975.0|1975-05-01|\n",
      "|        15|   Marvel|   1803|Clinton Barton (E...|\\/Clinton_Barton_...| Public Identity|Good Characters| Blue Eyes|Blond Hair|  Male Characters|null|Living Characters|     1394.0| 1964, September|September|1964.0|1964-09-01|\n",
      "|        16|   Marvel|   1396|Matthew Murdock (...|\\/Matthew_Murdock...| Public Identity|Good Characters| Blue Eyes|  Red Hair|  Male Characters|null|Living Characters|     1338.0|     1964, April|    April|1964.0|1964-04-01|\n",
      "|        17|   Marvel|  55534|Stephen Strange (...|\\/Stephen_Strange...| Public Identity|Good Characters| Grey Eyes|Black Hair|  Male Characters|null|Living Characters|     1307.0|      1963, July|     July|1963.0|1963-07-01|\n",
      "|        18|   Marvel|   1978|Mary Jane Watson ...|\\/Mary_Jane_Watso...|No Dual Identity|Good Characters|Green Eyes|  Red Hair|Female Characters|null|Living Characters|     1304.0|      1965, June|     June|1965.0|1965-06-01|\n",
      "|        19|   Marvel|   1872|John Jonah Jameso...|\\/John_Jonah_Jame...|No Dual Identity|           null| Blue Eyes|Black Hair|  Male Characters|null|Living Characters|     1266.0|     1963, March|    March|1963.0|1963-03-01|\n",
      "|        20|   Marvel|  35350|Robert Drake (Ear...|\\/Robert_Drake_(E...| Secret Identity|Good Characters|Brown Eyes|Brown Hair|  Male Characters|null|Living Characters|     1265.0| 1963, September|September|1963.0|1963-09-01|\n",
      "+----------+---------+-------+--------------------+--------------------+----------------+---------------+----------+----------+-----------------+----+-----------------+-----------+----------------+---------+------+----------+\n",
      "only showing top 20 rows\n",
      "\n"
     ]
    }
   ],
   "source": [
    "# Shoe the first 20 rows\n",
    "df_pyspark.show()"
   ]
  },
  {
   "cell_type": "code",
   "execution_count": 3,
   "id": "e0517a97",
   "metadata": {
    "scrolled": true
   },
   "outputs": [
    {
     "name": "stdout",
     "output_type": "stream",
     "text": [
      "root\n",
      " |-- Unnamed: 0: integer (nullable = true)\n",
      " |-- publisher: string (nullable = true)\n",
      " |-- page_id: integer (nullable = true)\n",
      " |-- name: string (nullable = true)\n",
      " |-- urlslug: string (nullable = true)\n",
      " |-- id: string (nullable = true)\n",
      " |-- align: string (nullable = true)\n",
      " |-- eye: string (nullable = true)\n",
      " |-- hair: string (nullable = true)\n",
      " |-- sex: string (nullable = true)\n",
      " |-- gsm: string (nullable = true)\n",
      " |-- alive: string (nullable = true)\n",
      " |-- appearances: double (nullable = true)\n",
      " |-- first_appearance: string (nullable = true)\n",
      " |-- month: string (nullable = true)\n",
      " |-- year: double (nullable = true)\n",
      " |-- date: date (nullable = true)\n",
      "\n"
     ]
    }
   ],
   "source": [
    "# Seeing the data types of each column\n",
    "df_pyspark.printSchema()"
   ]
  },
  {
   "cell_type": "code",
   "execution_count": 4,
   "id": "6e9cfff1",
   "metadata": {},
   "outputs": [
    {
     "name": "stdout",
     "output_type": "stream",
     "text": [
      "Number of rows: 500000\n"
     ]
    }
   ],
   "source": [
    "# Counting the rows\n",
    "row_count = df_pyspark.count()\n",
    "print(\"Number of rows:\", row_count)"
   ]
  },
  {
   "cell_type": "code",
   "execution_count": 5,
   "id": "60a05da5",
   "metadata": {},
   "outputs": [
    {
     "name": "stdout",
     "output_type": "stream",
     "text": [
      "Number of columns: 17\n"
     ]
    }
   ],
   "source": [
    "# Counting the columns\n",
    "column_count = len(df_pyspark.columns)\n",
    "print(\"Number of columns:\", column_count)"
   ]
  },
  {
   "cell_type": "markdown",
   "id": "3f1d8579",
   "metadata": {},
   "source": [
    "As can be seen from above, there are 500 000 rows and 17 columns, namely: 'Unnamed: 0',\n",
    " 'publisher',\n",
    " 'page_id',\n",
    " 'name',\n",
    " 'urlslug',\n",
    " 'id',\n",
    " 'align',\n",
    " 'eye',\n",
    " 'hair',\n",
    " 'sex',\n",
    " 'gsm',\n",
    " 'alive',\n",
    " 'appearances',\n",
    " 'first_appearance',\n",
    " 'month',\n",
    " 'year',\n",
    " 'date'\n"
   ]
  },
  {
   "cell_type": "markdown",
   "id": "546eeda9",
   "metadata": {},
   "source": [
    "### Data Cleaning"
   ]
  },
  {
   "cell_type": "markdown",
   "id": "c7790d14",
   "metadata": {},
   "source": [
    "To develop our model effectively, we need to get rid of any columns not needed for our analysis, in this case, '_publisher_, '_align_, '_eye_', '_hair_' and '_sex_' is all we need"
   ]
  },
  {
   "cell_type": "code",
   "execution_count": 6,
   "id": "7fc254fb",
   "metadata": {},
   "outputs": [],
   "source": [
    "# dropping Unnecessary columns\n",
    "df_pyspark = df_pyspark.select('publisher','align', \"eye\", 'hair', 'sex')\n"
   ]
  },
  {
   "cell_type": "code",
   "execution_count": 7,
   "id": "03a37103",
   "metadata": {},
   "outputs": [
    {
     "name": "stdout",
     "output_type": "stream",
     "text": [
      "+---------+---------------+----------+----------+-----------------+\n",
      "|publisher|          align|       eye|      hair|              sex|\n",
      "+---------+---------------+----------+----------+-----------------+\n",
      "|   Marvel|Good Characters|Hazel Eyes|Brown Hair|  Male Characters|\n",
      "|   Marvel|Good Characters| Blue Eyes|White Hair|  Male Characters|\n",
      "|   Marvel|           null| Blue Eyes|Black Hair|  Male Characters|\n",
      "|   Marvel|Good Characters| Blue Eyes|Black Hair|  Male Characters|\n",
      "|   Marvel|Good Characters| Blue Eyes|Blond Hair|  Male Characters|\n",
      "|   Marvel|Good Characters| Blue Eyes|   No Hair|  Male Characters|\n",
      "|   Marvel|Good Characters|Brown Eyes|Brown Hair|  Male Characters|\n",
      "|   Marvel|Good Characters|Brown Eyes|Brown Hair|  Male Characters|\n",
      "|   Marvel|           null|Brown Eyes|Brown Hair|  Male Characters|\n",
      "|   Marvel|Good Characters| Blue Eyes|Blond Hair|  Male Characters|\n",
      "|   Marvel|Good Characters| Blue Eyes| Blue Hair|  Male Characters|\n",
      "|   Marvel|Good Characters| Blue Eyes|Blond Hair|Female Characters|\n",
      "|   Marvel|           null|Green Eyes|Black Hair|  Male Characters|\n",
      "|   Marvel|Good Characters| Blue Eyes|White Hair|Female Characters|\n",
      "|   Marvel|Good Characters| Blue Eyes|Blond Hair|  Male Characters|\n",
      "|   Marvel|Good Characters| Blue Eyes|  Red Hair|  Male Characters|\n",
      "|   Marvel|Good Characters| Grey Eyes|Black Hair|  Male Characters|\n",
      "|   Marvel|Good Characters|Green Eyes|  Red Hair|Female Characters|\n",
      "|   Marvel|           null| Blue Eyes|Black Hair|  Male Characters|\n",
      "|   Marvel|Good Characters|Brown Eyes|Brown Hair|  Male Characters|\n",
      "+---------+---------------+----------+----------+-----------------+\n",
      "only showing top 20 rows\n",
      "\n"
     ]
    }
   ],
   "source": [
    "# Checking new Dataset with the 2 remaining column\n",
    "df_pyspark.show() "
   ]
  },
  {
   "cell_type": "markdown",
   "id": "32c8616a",
   "metadata": {},
   "source": [
    "For simplicity's sake, let us rename the remaining columns\n"
   ]
  },
  {
   "cell_type": "code",
   "execution_count": 8,
   "id": "8a46efac",
   "metadata": {},
   "outputs": [],
   "source": [
    "# Renaming columns\n",
    "\n",
    "# Rename 'align' to 'alignment'\n",
    "df_pyspark = df_pyspark.withColumnRenamed(\"align\", \"alignment\")\n",
    "\n",
    "# Rename column 'eye' to 'eye_colour'\n",
    "df_pyspark = df_pyspark.withColumnRenamed(\"eye\", \"eye_colour\")\n",
    "\n",
    "# Rename column 'hair' to 'hair_colour'\n",
    "df_pyspark = df_pyspark.withColumnRenamed(\"hair\", \"hair_colour\")\n",
    "\n",
    "# Rename column 'sex' to 'gender'\n",
    "df_pyspark = df_pyspark.withColumnRenamed(\"sex\", \"gender\")\n",
    "\n",
    "# Filter out the first row (header row)\n",
    "df_pyspark = df_pyspark.filter(monotonically_increasing_id() > 0)\n",
    "\n",
    "\n"
   ]
  },
  {
   "cell_type": "code",
   "execution_count": 9,
   "id": "724439e1",
   "metadata": {
    "scrolled": false
   },
   "outputs": [
    {
     "name": "stdout",
     "output_type": "stream",
     "text": [
      "+---------+---------------+----------+-----------+-----------------+\n",
      "|publisher|      alignment|eye_colour|hair_colour|           gender|\n",
      "+---------+---------------+----------+-----------+-----------------+\n",
      "|   Marvel|Good Characters| Blue Eyes| White Hair|  Male Characters|\n",
      "|   Marvel|           null| Blue Eyes| Black Hair|  Male Characters|\n",
      "|   Marvel|Good Characters| Blue Eyes| Black Hair|  Male Characters|\n",
      "|   Marvel|Good Characters| Blue Eyes| Blond Hair|  Male Characters|\n",
      "|   Marvel|Good Characters| Blue Eyes|    No Hair|  Male Characters|\n",
      "|   Marvel|Good Characters|Brown Eyes| Brown Hair|  Male Characters|\n",
      "|   Marvel|Good Characters|Brown Eyes| Brown Hair|  Male Characters|\n",
      "|   Marvel|           null|Brown Eyes| Brown Hair|  Male Characters|\n",
      "|   Marvel|Good Characters| Blue Eyes| Blond Hair|  Male Characters|\n",
      "|   Marvel|Good Characters| Blue Eyes|  Blue Hair|  Male Characters|\n",
      "|   Marvel|Good Characters| Blue Eyes| Blond Hair|Female Characters|\n",
      "|   Marvel|           null|Green Eyes| Black Hair|  Male Characters|\n",
      "|   Marvel|Good Characters| Blue Eyes| White Hair|Female Characters|\n",
      "|   Marvel|Good Characters| Blue Eyes| Blond Hair|  Male Characters|\n",
      "|   Marvel|Good Characters| Blue Eyes|   Red Hair|  Male Characters|\n",
      "|   Marvel|Good Characters| Grey Eyes| Black Hair|  Male Characters|\n",
      "|   Marvel|Good Characters|Green Eyes|   Red Hair|Female Characters|\n",
      "|   Marvel|           null| Blue Eyes| Black Hair|  Male Characters|\n",
      "|   Marvel|Good Characters|Brown Eyes| Brown Hair|  Male Characters|\n",
      "|   Marvel|Good Characters| Blue Eyes| Blond Hair|  Male Characters|\n",
      "+---------+---------------+----------+-----------+-----------------+\n",
      "only showing top 20 rows\n",
      "\n",
      "root\n",
      " |-- publisher: string (nullable = true)\n",
      " |-- alignment: string (nullable = true)\n",
      " |-- eye_colour: string (nullable = true)\n",
      " |-- hair_colour: string (nullable = true)\n",
      " |-- gender: string (nullable = true)\n",
      "\n"
     ]
    }
   ],
   "source": [
    "# Seeing the dataset with the newly renamed columns\n",
    "df_pyspark.show()\n",
    "\n",
    "df_pyspark.printSchema()\n"
   ]
  },
  {
   "cell_type": "markdown",
   "id": "20ab4ddc",
   "metadata": {},
   "source": [
    "Now let's drop any missing values and duplicates"
   ]
  },
  {
   "cell_type": "code",
   "execution_count": 10,
   "id": "1dc7399c",
   "metadata": {},
   "outputs": [],
   "source": [
    "# Drop rows with null values in any column\n",
    "df_pyspark = df_pyspark.na.drop()\n",
    "\n",
    "# Drop duplicates and keep only one occurrence of each duplicate group\n",
    "df_pyspark_no_duplicates = df_pyspark.dropDuplicates()\n",
    "\n",
    "\n"
   ]
  },
  {
   "cell_type": "code",
   "execution_count": 11,
   "id": "41cc08da",
   "metadata": {
    "scrolled": false
   },
   "outputs": [
    {
     "name": "stdout",
     "output_type": "stream",
     "text": [
      "+---------+---------------+----------+-----------+-----------------+\n",
      "|publisher|      alignment|eye_colour|hair_colour|           gender|\n",
      "+---------+---------------+----------+-----------+-----------------+\n",
      "|   Marvel|Good Characters| Blue Eyes| White Hair|  Male Characters|\n",
      "|   Marvel|Good Characters| Blue Eyes| Black Hair|  Male Characters|\n",
      "|   Marvel|Good Characters| Blue Eyes| Blond Hair|  Male Characters|\n",
      "|   Marvel|Good Characters| Blue Eyes|    No Hair|  Male Characters|\n",
      "|   Marvel|Good Characters|Brown Eyes| Brown Hair|  Male Characters|\n",
      "|   Marvel|Good Characters|Brown Eyes| Brown Hair|  Male Characters|\n",
      "|   Marvel|Good Characters| Blue Eyes| Blond Hair|  Male Characters|\n",
      "|   Marvel|Good Characters| Blue Eyes|  Blue Hair|  Male Characters|\n",
      "|   Marvel|Good Characters| Blue Eyes| Blond Hair|Female Characters|\n",
      "|   Marvel|Good Characters| Blue Eyes| White Hair|Female Characters|\n",
      "|   Marvel|Good Characters| Blue Eyes| Blond Hair|  Male Characters|\n",
      "|   Marvel|Good Characters| Blue Eyes|   Red Hair|  Male Characters|\n",
      "|   Marvel|Good Characters| Grey Eyes| Black Hair|  Male Characters|\n",
      "|   Marvel|Good Characters|Green Eyes|   Red Hair|Female Characters|\n",
      "|   Marvel|Good Characters|Brown Eyes| Brown Hair|  Male Characters|\n",
      "|   Marvel|Good Characters| Blue Eyes| Blond Hair|  Male Characters|\n",
      "|   Marvel|Good Characters| Blue Eyes|       Bald|  Male Characters|\n",
      "|   Marvel|Good Characters| Blue Eyes| Blond Hair|  Male Characters|\n",
      "|   Marvel|Good Characters| Blue Eyes| Black Hair|  Male Characters|\n",
      "|   Marvel|Good Characters|Green Eyes| Brown Hair|Female Characters|\n",
      "+---------+---------------+----------+-----------+-----------------+\n",
      "only showing top 20 rows\n",
      "\n"
     ]
    }
   ],
   "source": [
    "df_pyspark.show()\n"
   ]
  },
  {
   "cell_type": "code",
   "execution_count": 12,
   "id": "cb07dd98",
   "metadata": {},
   "outputs": [
    {
     "name": "stdout",
     "output_type": "stream",
     "text": [
      "Number of rows: 143445\n"
     ]
    }
   ],
   "source": [
    "# Checking the new number of rows\n",
    "row_count = df_pyspark.count()\n",
    "print(\"Number of rows:\", row_count)"
   ]
  },
  {
   "cell_type": "markdown",
   "id": "dace1047",
   "metadata": {},
   "source": [
    "As we can see, after removing all null values and duplicates, our number of rows have changed to 143 445 rows. Now let us apply mapping in the '_alignment_' column to specify whether a character is classified as a hero, villain or reformed"
   ]
  },
  {
   "cell_type": "code",
   "execution_count": 13,
   "id": "93498c47",
   "metadata": {
    "scrolled": false
   },
   "outputs": [
    {
     "name": "stdout",
     "output_type": "stream",
     "text": [
      "+---------+---------+--------------+--------------------+-----------------+\n",
      "|publisher|alignment|    eye_colour|         hair_colour|           gender|\n",
      "+---------+---------+--------------+--------------------+-----------------+\n",
      "|   Marvel|     hero|     Blue Eyes|          White Hair|  Male Characters|\n",
      "|   Marvel|     hero|     Blue Eyes|          Black Hair|  Male Characters|\n",
      "|   Marvel|     hero|     Blue Eyes|          Blond Hair|  Male Characters|\n",
      "|   Marvel|     hero|     Blue Eyes|             No Hair|  Male Characters|\n",
      "|   Marvel|     hero|    Brown Eyes|          Brown Hair|  Male Characters|\n",
      "|   Marvel|     hero|    Brown Eyes|          Brown Hair|  Male Characters|\n",
      "|   Marvel|     hero|     Blue Eyes|          Blond Hair|  Male Characters|\n",
      "|   Marvel|     hero|     Blue Eyes|           Blue Hair|  Male Characters|\n",
      "|   Marvel|     hero|     Blue Eyes|          Blond Hair|Female Characters|\n",
      "|   Marvel|     hero|     Blue Eyes|          White Hair|Female Characters|\n",
      "|   Marvel|     hero|     Blue Eyes|          Blond Hair|  Male Characters|\n",
      "|   Marvel|     hero|     Blue Eyes|            Red Hair|  Male Characters|\n",
      "|   Marvel|     hero|     Grey Eyes|          Black Hair|  Male Characters|\n",
      "|   Marvel|     hero|    Green Eyes|            Red Hair|Female Characters|\n",
      "|   Marvel|     hero|    Brown Eyes|          Brown Hair|  Male Characters|\n",
      "|   Marvel|     hero|     Blue Eyes|          Blond Hair|  Male Characters|\n",
      "|   Marvel|     hero|     Blue Eyes|                Bald|  Male Characters|\n",
      "|   Marvel|     hero|     Blue Eyes|          Blond Hair|  Male Characters|\n",
      "|   Marvel|     hero|     Blue Eyes|          Black Hair|  Male Characters|\n",
      "|   Marvel|     hero|    Green Eyes|          Brown Hair|Female Characters|\n",
      "|   Marvel|     hero|     Blue Eyes|         Auburn Hair|Female Characters|\n",
      "|   Marvel|     hero|    Green Eyes|            Red Hair|Female Characters|\n",
      "|   Marvel|     hero|    Green Eyes|            Red Hair|Female Characters|\n",
      "|   Marvel|     hero|   Yellow Eyes|           Blue Hair|  Male Characters|\n",
      "|   Marvel|     hero|     Gold Eyes|             No Hair|  Male Characters|\n",
      "|   Marvel|     hero|     Blue Eyes|           Grey Hair|Female Characters|\n",
      "|   Marvel|     hero|    Hazel Eyes|          Brown Hair|Female Characters|\n",
      "|   Marvel|     hero|     Blue Eyes|          Blond Hair|Female Characters|\n",
      "|   Marvel|     hero|    Green Eyes|          Brown Hair|Female Characters|\n",
      "|   Marvel|     hero|    Brown Eyes|          Black Hair|  Male Characters|\n",
      "|   Marvel|     hero|    Green Eyes|         Auburn Hair|Female Characters|\n",
      "|   Marvel|     hero|    Brown Eyes|          White Hair|  Male Characters|\n",
      "|   Marvel|     hero|     Blue Eyes|         Silver Hair|  Male Characters|\n",
      "|   Marvel|     hero|     Blue Eyes|          Brown Hair|  Male Characters|\n",
      "|   Marvel|  villain|    Brown Eyes|          Brown Hair|  Male Characters|\n",
      "|   Marvel|     hero|     Blue Eyes|                Bald|  Male Characters|\n",
      "|   Marvel|  villain|     Blue Eyes|         Auburn Hair|  Male Characters|\n",
      "|   Marvel|     hero|     Blue Eyes|Strawberry Blond ...|  Male Characters|\n",
      "|   Marvel|     hero|      Red Eyes|           Grey Hair|  Male Characters|\n",
      "|   Marvel|     hero|     Blue Eyes|          Blond Hair|  Male Characters|\n",
      "|   Marvel|     hero|    Brown Eyes|          Brown Hair|  Male Characters|\n",
      "|   Marvel|     hero|Black Eyeballs|          Brown Hair|  Male Characters|\n",
      "|   Marvel|     hero|     Blue Eyes|          Blond Hair|  Male Characters|\n",
      "|   Marvel|     hero|    Brown Eyes|          Brown Hair|Female Characters|\n",
      "|   Marvel|     hero|    Brown Eyes|          Brown Hair|  Male Characters|\n",
      "|   Marvel|     hero|     Blue Eyes|          White Hair|  Male Characters|\n",
      "|   Marvel|     hero|     Blue Eyes|          Blond Hair|  Male Characters|\n",
      "|   Marvel|     hero|     Blue Eyes|            Red Hair|Female Characters|\n",
      "|   Marvel|     hero|     Blue Eyes|          Blond Hair|  Male Characters|\n",
      "|   Marvel|     hero|     Blue Eyes|                Bald|  Male Characters|\n",
      "|   Marvel|     hero|     Blue Eyes|          Blond Hair|  Male Characters|\n",
      "|   Marvel|     hero|    Brown Eyes|          Brown Hair|  Male Characters|\n",
      "|   Marvel|     hero|     Blue Eyes|            Red Hair|  Male Characters|\n",
      "|   Marvel|     hero|    Green Eyes|Strawberry Blond ...|Female Characters|\n",
      "|   Marvel|     hero|    Brown Eyes|          Black Hair|  Male Characters|\n",
      "|   Marvel|  villain|     Blue Eyes|                Bald|  Male Characters|\n",
      "|   Marvel|     hero|    Brown Eyes|          Brown Hair|  Male Characters|\n",
      "|   Marvel|     hero|     Blue Eyes|          Brown Hair|  Male Characters|\n",
      "|   Marvel|     hero|     Blue Eyes|          Blond Hair|  Male Characters|\n",
      "|   Marvel|     hero|    Green Eyes|         Auburn Hair|Female Characters|\n",
      "|   Marvel|     hero|    Brown Eyes|          Black Hair|  Male Characters|\n",
      "|   Marvel|     hero|    Green Eyes|            Red Hair|Female Characters|\n",
      "|   Marvel|     hero|     Blue Eyes|          Black Hair|Female Characters|\n",
      "|   Marvel|     hero|    Green Eyes|          Green Hair|Female Characters|\n",
      "|   Marvel|     hero|     Blue Eyes|  Reddish Blond Hair|  Male Characters|\n",
      "|   Marvel|     hero|     Blue Eyes|          Black Hair|Female Characters|\n",
      "|   Marvel|     hero|    Brown Eyes|          Black Hair|Female Characters|\n",
      "|   Marvel|     hero|     Blue Eyes|            Red Hair|  Male Characters|\n",
      "|   Marvel|     hero|     Blue Eyes|          Brown Hair|  Male Characters|\n",
      "|   Marvel|     hero|    Brown Eyes|          Black Hair|Female Characters|\n",
      "|   Marvel|     hero|    Brown Eyes|          Brown Hair|  Male Characters|\n",
      "|   Marvel|     hero|     Blue Eyes|          Blond Hair|Female Characters|\n",
      "|   Marvel|     hero|    Green Eyes|            Red Hair|Female Characters|\n",
      "|   Marvel|  villain|    Amber Eyes|          Blond Hair|  Male Characters|\n",
      "|   Marvel|  villain|     Blue Eyes|          Blond Hair|  Male Characters|\n",
      "|   Marvel|     hero|     Blue Eyes|          Blond Hair|  Male Characters|\n",
      "|   Marvel|     hero|     Blue Eyes|          Black Hair|  Male Characters|\n",
      "|   Marvel|     hero|     Blue Eyes|                Bald|  Male Characters|\n",
      "|   Marvel|     hero|    Brown Eyes|          Brown Hair|  Male Characters|\n",
      "|   Marvel|     hero|     Grey Eyes|          Black Hair|  Male Characters|\n",
      "|   Marvel|  villain|   Yellow Eyes|            Red Hair|Female Characters|\n",
      "|   Marvel|     hero|     Blue Eyes|          Blond Hair|Female Characters|\n",
      "|   Marvel|     hero|     Blue Eyes|          Black Hair|  Male Characters|\n",
      "|   Marvel|     hero|     Blue Eyes|          Blond Hair|Female Characters|\n",
      "|   Marvel|     hero|     Blue Eyes|Strawberry Blond ...|Female Characters|\n",
      "|   Marvel|     hero|     Blue Eyes|          Blond Hair|  Male Characters|\n",
      "|   Marvel|     hero|    Green Eyes|          Black Hair|Female Characters|\n",
      "|   Marvel|     hero|     Blue Eyes|          Blond Hair|Female Characters|\n",
      "|   Marvel|     hero|    Brown Eyes|          Black Hair|Female Characters|\n",
      "|   Marvel|     hero|    Brown Eyes|          Black Hair|Female Characters|\n",
      "|   Marvel|     hero|    Brown Eyes|          Brown Hair|  Male Characters|\n",
      "|   Marvel|     hero|     Blue Eyes|                Bald|Female Characters|\n",
      "|   Marvel|     hero|    Brown Eyes|          Black Hair|  Male Characters|\n",
      "|   Marvel|     hero|    Green Eyes|            Red Hair|Female Characters|\n",
      "|   Marvel|  villain|    Brown Eyes|                Bald|  Male Characters|\n",
      "|   Marvel|  villain|    White Eyes|          Black Hair|  Male Characters|\n",
      "|   Marvel|     hero|     Blue Eyes|          Blond Hair|Female Characters|\n",
      "|   Marvel|     hero|     Blue Eyes|          Black Hair|  Male Characters|\n",
      "|   Marvel|     hero|     Blue Eyes|          Black Hair|Female Characters|\n",
      "|   Marvel|     hero|    Brown Eyes|                Bald|  Male Characters|\n",
      "+---------+---------+--------------+--------------------+-----------------+\n",
      "only showing top 100 rows\n",
      "\n"
     ]
    }
   ],
   "source": [
    "# Define the mapping\n",
    "alignment_mapping = {\n",
    "    'Good Characters': 'hero',\n",
    "    'Bad Characters': 'villain',\n",
    "    'Reformed Criminals': 'reformed'\n",
    "}\n",
    "\n",
    "# Update the 'alignment' column using PySpark functions\n",
    "df_pyspark = df_pyspark.withColumn(\n",
    "    'alignment',\n",
    "    when(col('alignment') == 'Good Characters', 'hero')\n",
    "    .when(col('alignment') == 'Bad Characters', 'villain')\n",
    "    .when(col('alignment') == 'Reformed Criminals', 'reformed')\n",
    "    .otherwise(col('alignment'))\n",
    ")\n",
    "\n",
    "# Show the updated DataFrame\n",
    "df_pyspark.show(100)\n"
   ]
  },
  {
   "cell_type": "code",
   "execution_count": 14,
   "id": "834112c2",
   "metadata": {},
   "outputs": [],
   "source": [
    "# Perform one-hot encoding on the categorical columns\n",
    "df_pyspark = df_pyspark.withColumn(\"hero\", when(col(\"alignment\") == \"hero\", 1).otherwise(0))\n",
    "df_pyspark = df_pyspark.withColumn(\"villain\", when(col(\"alignment\") == \"villain\", 1).otherwise(0))\n",
    "df_pyspark = df_pyspark.withColumn(\"reformed\", when(col(\"alignment\") == \"reformed\", 1).otherwise(0))\n",
    "\n",
    "# Split the dataset into training and testing sets\n",
    "train_data, test_data = df_pyspark.randomSplit([0.8, 0.2], seed=123)"
   ]
  },
  {
   "cell_type": "markdown",
   "id": "a960615f",
   "metadata": {},
   "source": [
    "##  Long Short-term Memory model (LSTM)"
   ]
  },
  {
   "cell_type": "markdown",
   "id": "7d895d8f",
   "metadata": {},
   "source": [
    "### Developing the model"
   ]
  },
  {
   "cell_type": "code",
   "execution_count": 15,
   "id": "45b2f7f0",
   "metadata": {},
   "outputs": [],
   "source": [
    "# Initialize weights and bias\n",
    "weights = [0.0, 0.0, 0.0, 0.0]\n",
    "bias = 0.0\n",
    "learning_rate = 0.01\n",
    "\n",
    "# Define the sigmoid function\n",
    "def sigmoid(z):\n",
    "    return 1 / (1 + math.exp(-z))\n"
   ]
  },
  {
   "cell_type": "code",
   "execution_count": 16,
   "id": "bfeb06d6",
   "metadata": {
    "scrolled": false
   },
   "outputs": [],
   "source": [
    "# Train the model\n",
    "for _ in range(500):  # You can adjust the number of iterations\n",
    "    for row in train_data.rdd.collect():\n",
    "        features = [1.0, float(row[\"hero\"]), float(row[\"villain\"]), float(row[\"reformed\"])]\n",
    "        label = float(row[\"hero\"])\n",
    "        z = sum([x * w for x, w in zip(features, weights)]) + bias\n",
    "        prediction = sigmoid(z)\n",
    "        for i in range(len(weights)):\n",
    "            weights[i] = weights[i] - learning_rate * (prediction - label) * features[i]\n",
    "        bias = bias - learning_rate * (prediction - label)\n",
    "\n",
    "\n",
    "\n",
    "\n"
   ]
  },
  {
   "cell_type": "code",
   "execution_count": 17,
   "id": "93f3f697",
   "metadata": {},
   "outputs": [
    {
     "name": "stdout",
     "output_type": "stream",
     "text": [
      "Accuracy: 1.0\n"
     ]
    }
   ],
   "source": [
    "# Evaluate the model on the test data\n",
    "correct_predictions = 0\n",
    "total_predictions = test_data.count()\n",
    "\n",
    "for row in test_data.rdd.collect():\n",
    "    features = [1.0, float(row[\"hero\"]), float(row[\"villain\"]), float(row[\"reformed\"])]\n",
    "    z = sum([x * w for x, w in zip(features, weights)]) + bias\n",
    "    prediction = sigmoid(z)\n",
    "    predicted_label = 1 if prediction >= 0.5 else 0\n",
    "    true_label = int(row[\"hero\"])\n",
    "    if predicted_label == true_label:\n",
    "        correct_predictions += 1\n",
    "\n",
    "accuracy = correct_predictions / total_predictions\n",
    "print(\"Accuracy:\", accuracy)"
   ]
  },
  {
   "cell_type": "markdown",
   "id": "b5cd63dd",
   "metadata": {},
   "source": [
    "An accuracy score of 1.0 in the logistic regression model indicates a perfect match between the model's predictions and the actual training data. While this may seem like an exceptional achievement, it's crucial to consider the broader context. The model's remarkable accuracy on the training data suggests that it has learned the training instances to the highest degree, but it may struggle to adapt to unseen data or different scenarios. This situation is often associated with overfitting, where the model fits the training data too closely and lacks the flexibility needed for accurate generalization to new or diverse data. To ensure the model's practicality and reliability in real-world scenarios, it's essential to strike a balance between achieving high training accuracy and maintaining the ability to perform well on unseen data."
   ]
  },
  {
   "cell_type": "markdown",
   "id": "9bcc335f",
   "metadata": {},
   "source": [
    "## Displaying results graphically "
   ]
  },
  {
   "cell_type": "code",
   "execution_count": 19,
   "id": "8a4b0506",
   "metadata": {},
   "outputs": [],
   "source": [
    "import matplotlib.pyplot as plt\n",
    "import seaborn as sns\n",
    "from sklearn.metrics import confusion_matrix\n",
    "from sklearn.metrics import accuracy_score\n",
    "from sklearn.metrics import classification_report"
   ]
  },
  {
   "cell_type": "code",
   "execution_count": 20,
   "id": "64131cb8",
   "metadata": {},
   "outputs": [
    {
     "data": {
      "image/png": "[encoded data removed]",
      "text/plain": [
       "<Figure size 800x600 with 2 Axes>"
      ]
     },
     "metadata": {},
     "output_type": "display_data"
    }
   ],
   "source": [
    "from sklearn.metrics import confusion_matrix\n",
    "import matplotlib.pyplot as plt\n",
    "import seaborn as sns\n",
    "\n",
    "# Collect true and predicted labels\n",
    "true_labels = [int(row[\"hero\"]) for row in test_data.rdd.collect()]\n",
    "predicted_labels = [predicted_label for row in test_data.rdd.collect()]\n",
    "\n",
    "# Create a confusion matrix\n",
    "cm = confusion_matrix(true_labels, predicted_labels)\n",
    "\n",
    "# Plot the confusion matrix\n",
    "plt.figure(figsize=(8, 6))\n",
    "sns.heatmap(cm, annot=True, fmt='d', cmap='Blues', xticklabels=['Predicted 0', 'Predicted 1'], yticklabels=['Actual 0', 'Actual 1'])\n",
    "plt.xlabel('Predicted')\n",
    "plt.ylabel('Actual')\n",
    "plt.title('Confusion Matrix')\n",
    "plt.show()\n"
   ]
  },
  {
   "cell_type": "markdown",
   "id": "0a4f7917",
   "metadata": {},
   "source": [
    "The confusion matrix demonstrates that the model is performing well in identifying the negative class (class 0), however, the absence of counts in the other squares suggests that there are no True Positives (TP) or False Negatives (FN). This indicates that the model is not correctly identifying any positive instances (class 1), leading to both perfect precision (as there are no false positives) and zero recall (as there are no true positives).\n",
    "\n",
    "This situation may reflect a class imbalance issue, a model threshold problem, or other factors that need to be addressed to achieve a balanced and meaningful classification outcome."
   ]
  },
  {
   "cell_type": "code",
   "execution_count": 23,
   "id": "a6e77d5a",
   "metadata": {},
   "outputs": [
    {
     "data": {
      "image/png": "[encoded data removed]",
      "text/plain": [
       "<Figure size 800x600 with 1 Axes>"
      ]
     },
     "metadata": {},
     "output_type": "display_data"
    }
   ],
   "source": [
    "from sklearn.metrics import precision_recall_curve\n",
    "import matplotlib.pyplot as plt\n",
    "\n",
    "# Assuming you have true labels and predicted labels\n",
    "true_labels = [int(row[\"hero\"]) for row in test_data.rdd.collect()]\n",
    "predicted_probabilities = [prediction for row in test_data.rdd.collect()]\n",
    "\n",
    "precision, recall, _ = precision_recall_curve(true_labels, predicted_probabilities)\n",
    "\n",
    "# Plot the precision-recall curve\n",
    "plt.figure(figsize=(8, 6))\n",
    "plt.plot(recall, precision, marker='.')\n",
    "plt.xlabel('Recall')\n",
    "plt.ylabel('Precision')\n",
    "plt.title('Precision-Recall Curve')\n",
    "plt.show()\n"
   ]
  },
  {
   "cell_type": "markdown",
   "id": "0105fb74",
   "metadata": {},
   "source": [
    "A precision-recall curve that takes the form of a straight line from 1.0 to 1.0 indicates that the model is making predictions with extreme confidence and is not exhibiting a trade-off between precision and recall. In this scenario, the model assigns a consistent high probability (close to 1) to all positive instances, leading to perfect recall, as it correctly identifies all of them. Simultaneously, it assigns a consistent low probability (close to 0) to all negative instances, ensuring perfect precision because there are no false positives.\n",
    "\n",
    "This behavior can be an indicator of potential issues with the model or data. It might be due to overfitting, where the model has essentially memorized the training data and is unable to generalize to new, unseen data. It could also be a result of a threshold or data imbalance problem, where the model's classification threshold is not being adjusted correctly, leading to overly optimistic predictions. To address this, it's essential to carefully review the model's training process, dataset quality, and any issues that might be causing this behavior, ultimately aiming to achieve a more balanced trade-off between precision and recall for better model generalization.\n"
   ]
  },
  {
   "cell_type": "markdown",
   "id": "89859a8d",
   "metadata": {},
   "source": [
    "The Logistic Regression model demonstrates a scenario where it is making predictions with extreme certainty. Specifically, it assigns a consistent high probability (close to 1) to all positive instances, indicating perfect recall as it correctly identifies all of them. Simultaneously, it assigns a consistent low probability (close to 0) to all negative instances, ensuring perfect precision because there are no false positives. This outcome suggests that the model is either overfitting the training data, resulting in a failure to generalize to new data, or that there may be issues with the model's threshold or data imbalance, leading to overly optimistic predictions. In either case, the model is not achieving the desired balance between precision and recall, and further investigation and adjustments are necessary to improve its overall performance and reliability."
   ]
  },
  {
   "cell_type": "markdown",
   "id": "7c88c086",
   "metadata": {},
   "source": [
    "### Model accuracy improvements\n",
    "\n",
    "Here are a few recommendations to improve model accuracy for this sentiment analysis:\n",
    "\n",
    "1. **Regularization:** Implement L1 (Lasso) or L2 (Ridge) regularization to prevent overfitting. This may introduce a small bias but can significantly improve generalization.\n",
    "\n",
    "2. **Early Stopping:** Implement early stopping during training. Monitor the model's performance on a validation set, and stop training when the performance starts to degrade. This can save training time and prevent overfitting.\n",
    "\n",
    "3. **Cross-Validation:** Implement k-fold cross-validation and monitor the model's performance across different folds. This can help identify overfitting and assess the model's generalization performance more accurately.\n",
    "\n",
    "4. **Use a Prebuilt Library:** Training time is a significant concern with having a large dataset, consider using a machine learning library like scikit-learn, which can efficiently handle logistic regression and provides regularization options.\n",
    "\n",
    "\n"
   ]
  },
  {
   "cell_type": "markdown",
   "id": "0604aa3b",
   "metadata": {},
   "source": [
    "## Conclusion\n",
    "\n",
    "In conclusion, this project centered around building a logistic regression model in PySpark from scratch to predict character alignment, several key observations can be drawn from the results and the model's performance. Achieving a training accuracy of 1.0 suggests that the model has effectively memorized the training data, emphasizing the importance of addressing overfitting. While a high training accuracy is desirable, it should be accompanied by a strong focus on generalization to ensure the model's practicality in real-world applications. The presence of a highly imbalanced confusion matrix, with a notable number of false positives and no true positives, underscores the need to investigate potential issues with threshold selection and data distribution. To enhance the model's reliability, it is advisable to explore regularization techniques, fine-tune hyperparameters, and further assess the quality of the data. Additionally, considering alternative classification algorithms and conducting in-depth diagnostic analyses can contribute to a more effective predictive model for character alignment."
   ]
  },
  {
   "cell_type": "markdown",
   "id": "0ae0ee34",
   "metadata": {},
   "source": [
    "## (Extra steps)\n",
    "1. To successfully run this Jupyter notebook, ensure that you have PySpark installed as well as the relevant libraries.\n",
    "\n",
    "2.  To successfully run the code in the Jupyter notebook for analyzing the dataset, download the dataset and save it in a folder on yourcomputer, and set the working directory in the notebook to that folder. Make sure to run each code cell in order."
   ]
  }
 ],
 "metadata": {
  "kernelspec": {
   "display_name": "Python 3 (ipykernel)",
   "language": "python",
   "name": "python3"
  },
  "language_info": {
   "codemirror_mode": {
    "name": "ipython",
    "version": 3
   },
   "file_extension": ".py",
   "mimetype": "text/x-python",
   "name": "python",
   "nbconvert_exporter": "python",
   "pygments_lexer": "ipython3",
   "version": "3.10.9"
  }
 },
 "nbformat": 4,
 "nbformat_minor": 5
}
